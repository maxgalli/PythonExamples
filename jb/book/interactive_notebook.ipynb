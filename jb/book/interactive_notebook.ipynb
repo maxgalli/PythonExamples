{
 "cells": [
  {
   "cell_type": "markdown",
   "id": "81f4008d-51a0-4d65-8fcd-8f5451e0c3c8",
   "metadata": {},
   "source": [
    "# Test Interactive Notebooks"
   ]
  },
  {
   "cell_type": "code",
   "execution_count": null,
   "id": "0a014be6-ad32-4378-b187-cdbaa8c40446",
   "metadata": {},
   "outputs": [],
   "source": [
    "import ipywidgets as widgets\n",
    "import matplotlib.pyplot as plt\n",
    "import numpy as np\n",
    "%matplotlib widget"
   ]
  },
  {
   "cell_type": "code",
   "execution_count": null,
   "id": "b8a4d872-9502-4bf8-88df-f37ea0d46039",
   "metadata": {},
   "outputs": [],
   "source": [
    "# Non-interactive plot\n",
    "mu = 0\n",
    "sigma = 0.1\n",
    "events = 100000\n",
    "data = np.random.normal(mu, sigma, events)\n",
    "fig, ax = plt.subplots()\n",
    "ax.hist(data, bins=100);"
   ]
  },
  {
   "cell_type": "code",
   "execution_count": null,
   "id": "cc861e62-fc77-4693-8ca6-73388573a08c",
   "metadata": {},
   "outputs": [],
   "source": [
    "# Interactive plot\n",
    "x = np.linspace(0,10)\n",
    "\n",
    "def sine_func(x, w, amp):\n",
    "    return amp*np.sin(w*x)\n",
    "\n",
    "fig, ax = plt.subplots()\n",
    "\n",
    "@widgets.interact(w=(0, 4, 0.25), amp=(0, 4, .1))\n",
    "def update(w=1, amp=1):\n",
    "    ax.clear()\n",
    "    ax.set_ylim(-4, 4)\n",
    "    ax.plot(x, sine_func(x, w, amp))"
   ]
  },
  {
   "cell_type": "code",
   "execution_count": null,
   "id": "50c499b7-af5d-419d-a05b-0cd07d4b6c9f",
   "metadata": {},
   "outputs": [],
   "source": []
  }
 ],
 "metadata": {
  "kernelspec": {
   "display_name": "Python 3 (ipykernel)",
   "language": "python",
   "name": "python3"
  },
  "language_info": {
   "codemirror_mode": {
    "name": "ipython",
    "version": 3
   },
   "file_extension": ".py",
   "mimetype": "text/x-python",
   "name": "python",
   "nbconvert_exporter": "python",
   "pygments_lexer": "ipython3",
   "version": "3.10.1"
  }
 },
 "nbformat": 4,
 "nbformat_minor": 5
}
