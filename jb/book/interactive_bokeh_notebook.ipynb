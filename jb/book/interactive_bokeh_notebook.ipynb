{
 "cells": [
  {
   "cell_type": "markdown",
   "id": "b1a69c95-894e-4819-b460-e6ed7a94dcf2",
   "metadata": {},
   "source": [
    "# Test Interactive Notebook with Bokeh"
   ]
  },
  {
   "cell_type": "code",
   "execution_count": null,
   "id": "1eb655ad-1843-44b4-86f8-b78607465a8a",
   "metadata": {},
   "outputs": [],
   "source": [
    "from ipywidgets import interact\n",
    "import numpy as np\n",
    "\n",
    "from bokeh.io import push_notebook, show, output_notebook\n",
    "from bokeh.plotting import figure\n",
    "output_notebook()"
   ]
  },
  {
   "cell_type": "code",
   "execution_count": null,
   "id": "1875b997-5bf8-4c29-8797-8c3850caadc1",
   "metadata": {},
   "outputs": [],
   "source": [
    "x = np.linspace(0, 2*np.pi, 2000)\n",
    "y = np.sin(x)"
   ]
  },
  {
   "cell_type": "code",
   "execution_count": null,
   "id": "f3f5511c-d425-4d82-9141-ca8620dd6578",
   "metadata": {},
   "outputs": [],
   "source": [
    "p = figure(title=\"simple line example\")\n",
    "r = p.line(x, y, color=\"#8888cc\", line_width=1.5, alpha=0.8)"
   ]
  },
  {
   "cell_type": "code",
   "execution_count": null,
   "id": "39c328c0-d38f-4662-bf6c-67c266aab39f",
   "metadata": {},
   "outputs": [],
   "source": [
    "def update(f, w=1, A=1, phi=0):\n",
    "    if   f == \"sin\": func = np.sin\n",
    "    elif f == \"cos\": func = np.cos\n",
    "    r.data_source.data['y'] = A * func(w * x + phi)\n",
    "    show(p, notebook_handle=True);"
   ]
  },
  {
   "cell_type": "code",
   "execution_count": null,
   "id": "da6ea44f-e295-4bc9-8d37-fe9861e5d437",
   "metadata": {},
   "outputs": [],
   "source": [
    "interact(update, f=[\"sin\", \"cos\"], w=(0,50), A=(1,10), phi=(0, 20, 0.1));"
   ]
  }
 ],
 "metadata": {
  "kernelspec": {
   "display_name": "Python 3 (ipykernel)",
   "language": "python",
   "name": "python3"
  },
  "language_info": {
   "codemirror_mode": {
    "name": "ipython",
    "version": 3
   },
   "file_extension": ".py",
   "mimetype": "text/x-python",
   "name": "python",
   "nbconvert_exporter": "python",
   "pygments_lexer": "ipython3",
   "version": "3.10.1"
  }
 },
 "nbformat": 4,
 "nbformat_minor": 5
}
